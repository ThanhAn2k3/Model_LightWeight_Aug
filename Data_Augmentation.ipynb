{
 "cells": [
  {
   "cell_type": "code",
   "execution_count": 1,
   "id": "51cbbf8a",
   "metadata": {},
   "outputs": [
    {
     "name": "stderr",
     "output_type": "stream",
     "text": [
      "2024-11-01 23:19:26.577105: I tensorflow/core/util/port.cc:153] oneDNN custom operations are on. You may see slightly different numerical results due to floating-point round-off errors from different computation orders. To turn them off, set the environment variable `TF_ENABLE_ONEDNN_OPTS=0`.\n",
      "2024-11-01 23:19:26.585979: E external/local_xla/xla/stream_executor/cuda/cuda_fft.cc:485] Unable to register cuFFT factory: Attempting to register factory for plugin cuFFT when one has already been registered\n",
      "2024-11-01 23:19:26.595888: E external/local_xla/xla/stream_executor/cuda/cuda_dnn.cc:8454] Unable to register cuDNN factory: Attempting to register factory for plugin cuDNN when one has already been registered\n",
      "2024-11-01 23:19:26.598883: E external/local_xla/xla/stream_executor/cuda/cuda_blas.cc:1452] Unable to register cuBLAS factory: Attempting to register factory for plugin cuBLAS when one has already been registered\n",
      "2024-11-01 23:19:26.606639: I tensorflow/core/platform/cpu_feature_guard.cc:210] This TensorFlow binary is optimized to use available CPU instructions in performance-critical operations.\n",
      "To enable the following instructions: AVX2 AVX_VNNI FMA, in other operations, rebuild TensorFlow with the appropriate compiler flags.\n",
      "2024-11-01 23:19:27.089078: W tensorflow/compiler/tf2tensorrt/utils/py_utils.cc:38] TF-TRT Warning: Could not find TensorRT\n"
     ]
    }
   ],
   "source": [
    "import os\n",
    "import numpy as np\n",
    "from skimage import io\n",
    "from PIL import Image, ImageEnhance, ImageFilter\n",
    "import random\n",
    "from tensorflow.keras.preprocessing.image import ImageDataGenerator  # Sử dụng TensorFlow Keras\n"
   ]
  },
  {
   "cell_type": "code",
   "execution_count": 2,
   "id": "dd78ff8a",
   "metadata": {},
   "outputs": [],
   "source": [
    "# Thiết lập ImageDataGenerator cho các biến đổi cơ bản\n",
    "datagen = ImageDataGenerator(\n",
    "    rotation_range=45,\n",
    "    width_shift_range=0.2,\n",
    "    height_shift_range=0.2,\n",
    "    shear_range=0.2,\n",
    "    zoom_range=0.2,\n",
    "    horizontal_flip=True,\n",
    "    vertical_flip=True,\n",
    "    fill_mode='nearest'\n",
    ")"
   ]
  },
  {
   "cell_type": "code",
   "execution_count": 3,
   "id": "33190b5c",
   "metadata": {},
   "outputs": [],
   "source": [
    "# Các hàm hỗ trợ cho các kỹ thuật tăng cường khác\n",
    "def random_crop(image, size=(224, 224)):\n",
    "    width, height = image.size\n",
    "    new_width, new_height = size\n",
    "    left = random.randint(0, width - new_width)\n",
    "    top = random.randint(0, height - new_height)\n",
    "    return image.crop((left, top, left + new_width, top + new_height))"
   ]
  },
  {
   "cell_type": "code",
   "execution_count": 4,
   "id": "ecc3f6f6",
   "metadata": {},
   "outputs": [],
   "source": [
    "def adjust_brightness(image):\n",
    "    enhancer = ImageEnhance.Brightness(image)\n",
    "    return enhancer.enhance(random.uniform(0.5, 1.5))"
   ]
  },
  {
   "cell_type": "code",
   "execution_count": 5,
   "id": "8d861264",
   "metadata": {},
   "outputs": [],
   "source": [
    "\n",
    "def adjust_contrast(image):\n",
    "    enhancer = ImageEnhance.Contrast(image)\n",
    "    return enhancer.enhance(random.uniform(0.5, 1.5))"
   ]
  },
  {
   "cell_type": "code",
   "execution_count": 6,
   "id": "aeb5e016",
   "metadata": {},
   "outputs": [],
   "source": [
    "def adjust_saturation(image):\n",
    "    enhancer = ImageEnhance.Color(image)\n",
    "    return enhancer.enhance(random.uniform(0.5, 1.5))"
   ]
  },
  {
   "cell_type": "code",
   "execution_count": 7,
   "id": "977e4d8e",
   "metadata": {},
   "outputs": [],
   "source": [
    "def adjust_hue(image):\n",
    "    np_image = np.array(image.convert('HSV'))\n",
    "    np_image[:, :, 0] = np_image[:, :, 0] + random.randint(-10, 10)\n",
    "    return Image.fromarray(np_image, 'HSV').convert('RGB')"
   ]
  },
  {
   "cell_type": "code",
   "execution_count": 8,
   "id": "f91d408f",
   "metadata": {},
   "outputs": [],
   "source": [
    "def add_noise(image):\n",
    "    np_image = np.array(image)\n",
    "    noise = np.random.normal(0, 25, np_image.shape)\n",
    "    np_image = np.clip(np_image + noise, 0, 255).astype(np.uint8)\n",
    "    return Image.fromarray(np_image)"
   ]
  },
  {
   "cell_type": "code",
   "execution_count": 9,
   "id": "e5ae4d1b",
   "metadata": {},
   "outputs": [],
   "source": [
    "def blur_image(image):\n",
    "    return image.filter(ImageFilter.GaussianBlur(radius=random.uniform(0.5, 2.0)))\n"
   ]
  },
  {
   "cell_type": "code",
   "execution_count": 10,
   "id": "9a79f43d",
   "metadata": {},
   "outputs": [],
   "source": [
    "def adjust_sharpness(image):\n",
    "    enhancer = ImageEnhance.Sharpness(image)\n",
    "    return enhancer.enhance(random.uniform(0.5, 2.0))"
   ]
  },
  {
   "cell_type": "code",
   "execution_count": 11,
   "id": "bb2bcb80",
   "metadata": {},
   "outputs": [],
   "source": [
    "def grayscale(image):\n",
    "    return image.convert('L').convert('RGB')"
   ]
  },
  {
   "cell_type": "code",
   "execution_count": 12,
   "id": "424e33c1",
   "metadata": {},
   "outputs": [],
   "source": [
    "def cutout(image, num_patches=1, patch_size=32):\n",
    "    np_image = np.array(image)\n",
    "    for _ in range(num_patches):\n",
    "        x = random.randint(0, np_image.shape[1] - patch_size)\n",
    "        y = random.randint(0, np_image.shape[0] - patch_size)\n",
    "        np_image[y:y+patch_size, x:x+patch_size] = 0\n",
    "    return Image.fromarray(np_image)"
   ]
  },
  {
   "cell_type": "code",
   "execution_count": 13,
   "id": "23d2f38d",
   "metadata": {},
   "outputs": [],
   "source": [
    "\n",
    "def elastic_deformation(image):\n",
    "    return image  # Placeholder cho biến dạng đàn hồi"
   ]
  },
  {
   "cell_type": "code",
   "execution_count": 14,
   "id": "5d8536c9",
   "metadata": {},
   "outputs": [],
   "source": [
    "# Hàm để tăng cường ảnh\n",
    "def augment_image(img):\n",
    "    augmented_images = []\n",
    "    \n",
    "    # Các biến đổi cơ bản\n",
    "    augmented_images.append(datagen.random_transform(img))  # Tăng cường bằng ImageDataGenerator\n",
    "    \n",
    "    # Các kỹ thuật khác\n",
    "    pil_img = Image.fromarray(img)\n",
    "    augmented_images.append(np.array(random_crop(pil_img)))  # Cắt ngẫu nhiên\n",
    "    augmented_images.append(np.array(adjust_brightness(pil_img)))  # Điều chỉnh độ sáng\n",
    "    augmented_images.append(np.array(adjust_contrast(pil_img)))  # Điều chỉnh độ tương phản\n",
    "    augmented_images.append(np.array(adjust_saturation(pil_img)))  # Điều chỉnh độ bão hòa\n",
    "    augmented_images.append(np.array(adjust_hue(pil_img)))  # Điều chỉnh sắc thái\n",
    "    augmented_images.append(np.array(add_noise(pil_img)))  # Thêm nhiễu\n",
    "    augmented_images.append(np.array(blur_image(pil_img)))  # Làm mờ ảnh\n",
    "    augmented_images.append(np.array(adjust_sharpness(pil_img)))  # Điều chỉnh độ sắc nét\n",
    "    augmented_images.append(np.array(grayscale(pil_img)))  # Chuyển đổi sang đen trắng\n",
    "    augmented_images.append(np.array(cutout(pil_img)))  # Cắt các vùng ngẫu nhiên\n",
    "    augmented_images.append(np.array(elastic_deformation(pil_img)))  # Biến dạng đàn hồi\n",
    "    \n",
    "    return augmented_images"
   ]
  },
  {
   "cell_type": "code",
   "execution_count": 15,
   "id": "50345e3c",
   "metadata": {},
   "outputs": [],
   "source": [
    "# Hàm thực hiện tăng cường và lưu ảnh đầu ra\n",
    "def tangCuongAnh(thuMucVao, thuMucRa):\n",
    "    if not os.path.exists(thuMucRa):\n",
    "        os.makedirs(thuMucRa)\n",
    "    \n",
    "    image_files = [f for f in os.listdir(thuMucVao) if f.endswith('.jpg') or f.endswith('.png')]\n",
    "    \n",
    "    for image_file in image_files:\n",
    "        img_path = os.path.join(thuMucVao, image_file)\n",
    "        img = io.imread(img_path)\n",
    "        img = np.array(Image.fromarray(img).resize((224, 224)))\n",
    "        \n",
    "        # Tạo ảnh tăng cường\n",
    "        augmented_images = augment_image(img)  # Gọi hàm tăng cường\n",
    "        for i, aug_img in enumerate(augmented_images):  # Duyệt qua từng ảnh đã tăng cường\n",
    "            aug_img_pil = Image.fromarray(aug_img)\n",
    "            aug_img_pil.save(os.path.join(thuMucRa, f\"{image_file.split('.')[0]}_aug_{i}.png\"))  # Lưu ảnh tăng cường"
   ]
  },
  {
   "cell_type": "code",
   "execution_count": 16,
   "id": "06652bb1",
   "metadata": {},
   "outputs": [],
   "source": [
    "# Thư mục đầu vào và đầu ra\n",
    "ThuMucDauVao = 'dataset'\n",
    "ThuMucDauRa = 'aug_dataset'\n",
    "TepCon = ['High squamous intra-epithelial lesion', 'Low squamous intra-epithelial lesion', 'Negative for Intraepithelial malignancy', 'Squamous cell carcinoma']  # Các thư mục con trong thư mục gốc"
   ]
  },
  {
   "cell_type": "code",
   "execution_count": 17,
   "id": "850953fd",
   "metadata": {},
   "outputs": [
    {
     "name": "stdout",
     "output_type": "stream",
     "text": [
      "Hoàn thành tăng cường dữ liệu cho các giai đoạn bệnh.\n"
     ]
    }
   ],
   "source": [
    "# Thực hiện tăng cường cho từng thư mục con\n",
    "for sub_dir in TepCon:\n",
    "    input_path = os.path.join(ThuMucDauVao, sub_dir)\n",
    "    output_path = os.path.join(ThuMucDauRa, f\"{sub_dir}_aug\")\n",
    "    tangCuongAnh(input_path, output_path)  # Gọi hàm tăng cường\n",
    "\n",
    "print(\"Hoàn thành tăng cường dữ liệu cho các giai đoạn bệnh.\")"
   ]
  },
  {
   "cell_type": "code",
   "execution_count": null,
   "id": "4ce4b240",
   "metadata": {},
   "outputs": [],
   "source": []
  }
 ],
 "metadata": {
  "kernelspec": {
   "display_name": "Python 3 (ipykernel)",
   "language": "python",
   "name": "python3"
  },
  "language_info": {
   "codemirror_mode": {
    "name": "ipython",
    "version": 3
   },
   "file_extension": ".py",
   "mimetype": "text/x-python",
   "name": "python",
   "nbconvert_exporter": "python",
   "pygments_lexer": "ipython3",
   "version": "3.11.5"
  }
 },
 "nbformat": 4,
 "nbformat_minor": 5
}
